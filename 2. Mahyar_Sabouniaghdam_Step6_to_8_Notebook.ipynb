{
 "cells": [
  {
   "cell_type": "markdown",
   "id": "af207bee",
   "metadata": {},
   "source": [
    "<div id=\"container\" style=\"position:relative;\">\n",
    "<div style=\"float:left\"><h1> Mahyar Sabouniaghdam </h1></div>\n",
    "<div style=\"position:relative; float:right\"><img style=\"height:65px\" src =\"https://drive.google.com/uc?export=view&id=1EnB0x-fdqMp6I5iMoEBBEuxB_s7AmE2k\"/>\n",
    "</div>\n",
    "</div>"
   ]
  },
  {
   "cell_type": "markdown",
   "id": "03a7a871",
   "metadata": {},
   "source": [
    "# Big Data Wrangling With Google Books Ngrams"
   ]
  },
  {
   "cell_type": "markdown",
   "id": "f9d66bb6",
   "metadata": {},
   "source": [
    "In this assignment, we will apply the skills we've learned in the Big Data Fundamentals unit to load, filter, and visualize a large real-world dataset in a cloud-based distributed computing environment using Hadoop, Spark, Hive, and the S3 filesystem. We will prepare a professional report to summarize the findings and be sure to include an appendix with screenshots of the steps completed for Questions 1 and 2.\n",
    "\n",
    "The Google Ngrams dataset was created by Google's research team by analyzing all of the content in Google Books - these digitized texts represent approximately 4% of all books ever printed, and span a time period from the 1800s into the 2000s.\n",
    "\n",
    "The dataset is hosted in a public S3 bucket as part of the Amazon S3 Open Data Registry. For this assignment, we have converted the data to CSV and hosted it on a public S3 bucket which may be accessed here: s3://brainstation-dsft/eng_1M_1gram.csv\n",
    "\n",
    "For this deliverable, we will produce a report, as well as a jupyter notebook, which will follow a Big Data analysis workflow. As part of this workflow we will filter and reduce data down to a manageable size, and then do some analysis locally on our machine after extracting data from the Cloud and processing it using Big Data tools. The workflow and steps in the process are illustrated below:"
   ]
  },
  {
   "cell_type": "markdown",
   "id": "beb06b94",
   "metadata": {},
   "source": [
    "1.  Up untill now we spined up a new EMR cluster using the AWS Console and we included Hadoop, Spark, Hive, Jupyterhub, and Livy for our cluster with the release version of EMR 6.1.1.\n",
    "\n",
    "\n",
    "2.  Then we connected to the head node of the cluster using SSH.\n",
    "\n",
    "\n",
    "3.  Then we copied the data folder from s3://brainstation-dsft/eng_1M_1gram.csv into a directory on the Hadoop File System (HDFS) named /user/hadoop/eng_1M_1gram.\n",
    "\n",
    "\n",
    "\n",
    "4.  In this step by using pyspark, we read the data that copied into HDFS in Step 3. We used Jupyterhub on EMR to describe the dataset in pyspark. Then we created a new DataFrame from a query using Spark SQL, filtering to include only the rows where the token is \"data\" and then we described the new dataset. Finally, we wrote the filtered data back to a directory in the HDFS from Spark using df.write.csv() with the header=True parameter.\n",
    "\n",
    "\n",
    "\n",
    "5.   In this step we collected the contents of the directory into a single file on the local drive of the head node using getmerge and move this file into a S3 bucket in my account which is mahyar-bstn-bucket.\n",
    "\n",
    "\n",
    "\n",
    "6. Now we are in step 6:"
   ]
  },
  {
   "cell_type": "markdown",
   "id": "04409e01",
   "metadata": {},
   "source": [
    "## Remaining Questions:"
   ]
  },
  {
   "cell_type": "markdown",
   "id": "6d506575",
   "metadata": {},
   "source": [
    "\n",
    "\n",
    "6. On your local machine (or on AWS outside of Spark) in python, read the CSV data from the S3 folder into a pandas DataFrame (You will have to research how to read data into pandas from S3 buckets). Note You must have first authenticated on your machine using aws configure on the command line to complete this step).\n",
    "\n",
    "\n",
    "7. Plot the number of occurrences of the token (the frequency column) of data over the years using matplotlib.\n",
    "\n",
    "\n",
    "8. Compare Hadoop and Spark as distributed file systems:\n",
    "\n",
    "  a. What are the advantages/ differences between Hadoop and Spark? List two advantages for each.\n",
    " \n",
    "  b. Explain how the HDFS stores the data."
   ]
  },
  {
   "cell_type": "markdown",
   "id": "b9922c7e",
   "metadata": {},
   "source": [
    " "
   ]
  },
  {
   "cell_type": "markdown",
   "id": "de54b82f",
   "metadata": {},
   "source": [
    "## 6"
   ]
  },
  {
   "cell_type": "markdown",
   "id": "9336b744",
   "metadata": {},
   "source": [
    " "
   ]
  },
  {
   "cell_type": "markdown",
   "id": "1ef121c6",
   "metadata": {},
   "source": [
    "- In this step we should first authenticated on our machine using aws configure on the command line.\n",
    "\n",
    "\n",
    "- Then we will use boto to read the csv data into pandas dataframe:"
   ]
  },
  {
   "cell_type": "markdown",
   "id": "82d35df4",
   "metadata": {},
   "source": [
    "### Using Boto3 to communicate with S3:"
   ]
  },
  {
   "cell_type": "markdown",
   "id": "d49f369a",
   "metadata": {},
   "source": [
    "- First we will import packeges we need:"
   ]
  },
  {
   "cell_type": "code",
   "execution_count": 1,
   "id": "4df20489",
   "metadata": {},
   "outputs": [],
   "source": [
    "# Import packages\n",
    "\n",
    "import boto3\n",
    "import pandas as pd\n",
    "import matplotlib.pyplot as plt"
   ]
  },
  {
   "cell_type": "markdown",
   "id": "efc038fb",
   "metadata": {},
   "source": [
    "Let's start with the Client method. We will create a boto3 client object and pass it the AWS service we would like to use, which in this case is S3."
   ]
  },
  {
   "cell_type": "code",
   "execution_count": 2,
   "id": "c37625c3",
   "metadata": {},
   "outputs": [
    {
     "data": {
      "text/plain": [
       "<botocore.client.S3 at 0x2632244ebb0>"
      ]
     },
     "execution_count": 2,
     "metadata": {},
     "output_type": "execute_result"
    }
   ],
   "source": [
    "# Instantiate an S3 client\n",
    "s3_client = boto3.client('s3')\n",
    "\n",
    "# Check\n",
    "s3_client"
   ]
  },
  {
   "cell_type": "markdown",
   "id": "69db62f8",
   "metadata": {},
   "source": [
    "- Recall that this instance is linked to the AWS account authorized on your computer, and if you run this notebook you will see different outputs than what I have here."
   ]
  },
  {
   "cell_type": "code",
   "execution_count": 3,
   "id": "771c47fd",
   "metadata": {},
   "outputs": [
    {
     "data": {
      "text/plain": [
       "{'ResponseMetadata': {'RequestId': 'MQBECBEXBA36ZK0R',\n",
       "  'HostId': '0NY45PAlsx/U0lT5C727v7nRIPn60OFryeyfRPjXjD0/wID9q88j6/tsM0VeDEPmvE/A887dvhM=',\n",
       "  'HTTPStatusCode': 200,\n",
       "  'HTTPHeaders': {'x-amz-id-2': '0NY45PAlsx/U0lT5C727v7nRIPn60OFryeyfRPjXjD0/wID9q88j6/tsM0VeDEPmvE/A887dvhM=',\n",
       "   'x-amz-request-id': 'MQBECBEXBA36ZK0R',\n",
       "   'date': 'Mon, 06 Feb 2023 10:05:25 GMT',\n",
       "   'content-type': 'application/xml',\n",
       "   'transfer-encoding': 'chunked',\n",
       "   'server': 'AmazonS3'},\n",
       "  'RetryAttempts': 0},\n",
       " 'Buckets': [{'Name': 'aws-emr-resources-181777116252-us-east-1',\n",
       "   'CreationDate': datetime.datetime(2023, 2, 5, 21, 2, 5, tzinfo=tzutc())},\n",
       "  {'Name': 'aws-logs-181777116252-us-east-1',\n",
       "   'CreationDate': datetime.datetime(2023, 1, 31, 16, 43, 41, tzinfo=tzutc())},\n",
       "  {'Name': 'mahyar-bstn-bucket',\n",
       "   'CreationDate': datetime.datetime(2023, 1, 30, 20, 38, 2, tzinfo=tzutc())}],\n",
       " 'Owner': {'DisplayName': 'mahyar_sabooni',\n",
       "  'ID': '7eb122d16e9fa085284e3de4a147f08b6b4a882422396d0227276f95079a5618'}}"
      ]
     },
     "execution_count": 3,
     "metadata": {},
     "output_type": "execute_result"
    }
   ],
   "source": [
    "# Send a request to list all my buckets, and assign the response to a variable\n",
    "response = s3_client.list_buckets()\n",
    "\n",
    "# Check\n",
    "response"
   ]
  },
  {
   "cell_type": "markdown",
   "id": "28f1aa40",
   "metadata": {},
   "source": [
    "- We can access the keys and values of a dictionary using the .keys() and .values() methods, respectively:"
   ]
  },
  {
   "cell_type": "code",
   "execution_count": 4,
   "id": "8272719f",
   "metadata": {},
   "outputs": [
    {
     "data": {
      "text/plain": [
       "dict_keys(['ResponseMetadata', 'Buckets', 'Owner'])"
      ]
     },
     "execution_count": 4,
     "metadata": {},
     "output_type": "execute_result"
    }
   ],
   "source": [
    "# The keys\n",
    "\n",
    "response.keys()"
   ]
  },
  {
   "cell_type": "code",
   "execution_count": 5,
   "id": "f8d7e1db",
   "metadata": {},
   "outputs": [
    {
     "data": {
      "text/plain": [
       "dict_values([{'RequestId': 'MQBECBEXBA36ZK0R', 'HostId': '0NY45PAlsx/U0lT5C727v7nRIPn60OFryeyfRPjXjD0/wID9q88j6/tsM0VeDEPmvE/A887dvhM=', 'HTTPStatusCode': 200, 'HTTPHeaders': {'x-amz-id-2': '0NY45PAlsx/U0lT5C727v7nRIPn60OFryeyfRPjXjD0/wID9q88j6/tsM0VeDEPmvE/A887dvhM=', 'x-amz-request-id': 'MQBECBEXBA36ZK0R', 'date': 'Mon, 06 Feb 2023 10:05:25 GMT', 'content-type': 'application/xml', 'transfer-encoding': 'chunked', 'server': 'AmazonS3'}, 'RetryAttempts': 0}, [{'Name': 'aws-emr-resources-181777116252-us-east-1', 'CreationDate': datetime.datetime(2023, 2, 5, 21, 2, 5, tzinfo=tzutc())}, {'Name': 'aws-logs-181777116252-us-east-1', 'CreationDate': datetime.datetime(2023, 1, 31, 16, 43, 41, tzinfo=tzutc())}, {'Name': 'mahyar-bstn-bucket', 'CreationDate': datetime.datetime(2023, 1, 30, 20, 38, 2, tzinfo=tzutc())}], {'DisplayName': 'mahyar_sabooni', 'ID': '7eb122d16e9fa085284e3de4a147f08b6b4a882422396d0227276f95079a5618'}])"
      ]
     },
     "execution_count": 5,
     "metadata": {},
     "output_type": "execute_result"
    }
   ],
   "source": [
    "# The values\n",
    "\n",
    "response.values()"
   ]
  },
  {
   "cell_type": "markdown",
   "id": "8862bdd1",
   "metadata": {},
   "source": [
    "- The values aren't easy for us to work with, so let's use the keys instead:"
   ]
  },
  {
   "cell_type": "code",
   "execution_count": 6,
   "id": "707f5241",
   "metadata": {},
   "outputs": [
    {
     "data": {
      "text/plain": [
       "[{'Name': 'aws-emr-resources-181777116252-us-east-1',\n",
       "  'CreationDate': datetime.datetime(2023, 2, 5, 21, 2, 5, tzinfo=tzutc())},\n",
       " {'Name': 'aws-logs-181777116252-us-east-1',\n",
       "  'CreationDate': datetime.datetime(2023, 1, 31, 16, 43, 41, tzinfo=tzutc())},\n",
       " {'Name': 'mahyar-bstn-bucket',\n",
       "  'CreationDate': datetime.datetime(2023, 1, 30, 20, 38, 2, tzinfo=tzutc())}]"
      ]
     },
     "execution_count": 6,
     "metadata": {},
     "output_type": "execute_result"
    }
   ],
   "source": [
    "# What's the output if I index the big dictionary by the 'Buckets' key?\n",
    "\n",
    "response['Buckets']"
   ]
  },
  {
   "cell_type": "code",
   "execution_count": 7,
   "id": "a79a32b5",
   "metadata": {},
   "outputs": [
    {
     "data": {
      "text/plain": [
       "list"
      ]
     },
     "execution_count": 7,
     "metadata": {},
     "output_type": "execute_result"
    }
   ],
   "source": [
    "# Type of the output above\n",
    "\n",
    "type(response['Buckets'])"
   ]
  },
  {
   "cell_type": "markdown",
   "id": "20b4aa86",
   "metadata": {},
   "source": [
    "- Now let's print the names of my buckets:"
   ]
  },
  {
   "cell_type": "code",
   "execution_count": 9,
   "id": "2c83d293",
   "metadata": {},
   "outputs": [
    {
     "name": "stdout",
     "output_type": "stream",
     "text": [
      "aws-emr-resources-181777116252-us-east-1\n",
      "aws-logs-181777116252-us-east-1\n",
      "mahyar-bstn-bucket\n"
     ]
    }
   ],
   "source": [
    "# Instantiate a resource service client\n",
    "\n",
    "s3_resource = boto3.resource('s3')\n",
    "\n",
    "# Iterate over the buckets\n",
    "\n",
    "for bucket in s3_resource.buckets.all():\n",
    "    \n",
    "    # Use the `.name` method on each bucket to print its name\n",
    "    print(bucket.name)"
   ]
  },
  {
   "cell_type": "markdown",
   "id": "2de5703a",
   "metadata": {},
   "source": [
    "- Accessing and reading in a specific file:"
   ]
  },
  {
   "cell_type": "code",
   "execution_count": 10,
   "id": "94ecd240",
   "metadata": {},
   "outputs": [
    {
     "data": {
      "text/plain": [
       "{'ResponseMetadata': {'RequestId': 'QQ1Z87ZJA41N3FEX',\n",
       "  'HostId': 'pFXqElHUzy1FbNP4PW8ufEFAqh3/JF24yOfyG6LiC7YTQ7ke3Z/KY+9PGoRl5aGp1OmTG4LytF8=',\n",
       "  'HTTPStatusCode': 200,\n",
       "  'HTTPHeaders': {'x-amz-id-2': 'pFXqElHUzy1FbNP4PW8ufEFAqh3/JF24yOfyG6LiC7YTQ7ke3Z/KY+9PGoRl5aGp1OmTG4LytF8=',\n",
       "   'x-amz-request-id': 'QQ1Z87ZJA41N3FEX',\n",
       "   'date': 'Mon, 06 Feb 2023 10:11:14 GMT',\n",
       "   'last-modified': 'Sun, 05 Feb 2023 22:29:01 GMT',\n",
       "   'etag': '\"fb3cf3d45b1fc32b939cbd13697dbe68\"',\n",
       "   'x-amz-server-side-encryption': 'AES256',\n",
       "   'accept-ranges': 'bytes',\n",
       "   'content-type': 'text/csv',\n",
       "   'server': 'AmazonS3',\n",
       "   'content-length': '7338'},\n",
       "  'RetryAttempts': 0},\n",
       " 'AcceptRanges': 'bytes',\n",
       " 'LastModified': datetime.datetime(2023, 2, 5, 22, 29, 1, tzinfo=tzutc()),\n",
       " 'ContentLength': 7338,\n",
       " 'ETag': '\"fb3cf3d45b1fc32b939cbd13697dbe68\"',\n",
       " 'ContentType': 'text/csv',\n",
       " 'ServerSideEncryption': 'AES256',\n",
       " 'Metadata': {},\n",
       " 'Body': <botocore.response.StreamingBody at 0x26322550820>}"
      ]
     },
     "execution_count": 10,
     "metadata": {},
     "output_type": "execute_result"
    }
   ],
   "source": [
    "# Get the specified file from the specified bucket and assign it to a variable\n",
    "\n",
    "s3_object = s3_client.get_object(Bucket='mahyar-bstn-bucket', Key='filtered_data.csv')\n",
    "\n",
    "# Check\n",
    "\n",
    "s3_object"
   ]
  },
  {
   "cell_type": "code",
   "execution_count": 11,
   "id": "6f96d850",
   "metadata": {},
   "outputs": [
    {
     "data": {
      "text/plain": [
       "<botocore.response.StreamingBody at 0x26322550820>"
      ]
     },
     "execution_count": 11,
     "metadata": {},
     "output_type": "execute_result"
    }
   ],
   "source": [
    "# Index the above by the 'Body' key\n",
    "\n",
    "s3_object['Body']"
   ]
  },
  {
   "cell_type": "markdown",
   "id": "1095ae13",
   "metadata": {},
   "source": [
    "- Now let's read the data:"
   ]
  },
  {
   "cell_type": "code",
   "execution_count": 12,
   "id": "665a7315",
   "metadata": {},
   "outputs": [
    {
     "data": {
      "text/html": [
       "<div>\n",
       "<style scoped>\n",
       "    .dataframe tbody tr th:only-of-type {\n",
       "        vertical-align: middle;\n",
       "    }\n",
       "\n",
       "    .dataframe tbody tr th {\n",
       "        vertical-align: top;\n",
       "    }\n",
       "\n",
       "    .dataframe thead th {\n",
       "        text-align: right;\n",
       "    }\n",
       "</style>\n",
       "<table border=\"1\" class=\"dataframe\">\n",
       "  <thead>\n",
       "    <tr style=\"text-align: right;\">\n",
       "      <th></th>\n",
       "      <th>token</th>\n",
       "      <th>year</th>\n",
       "      <th>frequency</th>\n",
       "      <th>pages</th>\n",
       "      <th>books</th>\n",
       "    </tr>\n",
       "  </thead>\n",
       "  <tbody>\n",
       "    <tr>\n",
       "      <th>0</th>\n",
       "      <td>data</td>\n",
       "      <td>1584</td>\n",
       "      <td>16</td>\n",
       "      <td>14</td>\n",
       "      <td>1</td>\n",
       "    </tr>\n",
       "    <tr>\n",
       "      <th>1</th>\n",
       "      <td>data</td>\n",
       "      <td>1614</td>\n",
       "      <td>3</td>\n",
       "      <td>2</td>\n",
       "      <td>1</td>\n",
       "    </tr>\n",
       "    <tr>\n",
       "      <th>2</th>\n",
       "      <td>data</td>\n",
       "      <td>1627</td>\n",
       "      <td>1</td>\n",
       "      <td>1</td>\n",
       "      <td>1</td>\n",
       "    </tr>\n",
       "    <tr>\n",
       "      <th>3</th>\n",
       "      <td>data</td>\n",
       "      <td>1631</td>\n",
       "      <td>22</td>\n",
       "      <td>18</td>\n",
       "      <td>1</td>\n",
       "    </tr>\n",
       "    <tr>\n",
       "      <th>4</th>\n",
       "      <td>data</td>\n",
       "      <td>1637</td>\n",
       "      <td>1</td>\n",
       "      <td>1</td>\n",
       "      <td>1</td>\n",
       "    </tr>\n",
       "    <tr>\n",
       "      <th>...</th>\n",
       "      <td>...</td>\n",
       "      <td>...</td>\n",
       "      <td>...</td>\n",
       "      <td>...</td>\n",
       "      <td>...</td>\n",
       "    </tr>\n",
       "    <tr>\n",
       "      <th>311</th>\n",
       "      <td>data</td>\n",
       "      <td>2004</td>\n",
       "      <td>201841</td>\n",
       "      <td>93539</td>\n",
       "      <td>3483</td>\n",
       "    </tr>\n",
       "    <tr>\n",
       "      <th>312</th>\n",
       "      <td>data</td>\n",
       "      <td>2005</td>\n",
       "      <td>197467</td>\n",
       "      <td>88901</td>\n",
       "      <td>3392</td>\n",
       "    </tr>\n",
       "    <tr>\n",
       "      <th>313</th>\n",
       "      <td>data</td>\n",
       "      <td>2006</td>\n",
       "      <td>203669</td>\n",
       "      <td>92960</td>\n",
       "      <td>3449</td>\n",
       "    </tr>\n",
       "    <tr>\n",
       "      <th>314</th>\n",
       "      <td>data</td>\n",
       "      <td>2007</td>\n",
       "      <td>168338</td>\n",
       "      <td>78986</td>\n",
       "      <td>3246</td>\n",
       "    </tr>\n",
       "    <tr>\n",
       "      <th>315</th>\n",
       "      <td>data</td>\n",
       "      <td>2008</td>\n",
       "      <td>105331</td>\n",
       "      <td>47811</td>\n",
       "      <td>2358</td>\n",
       "    </tr>\n",
       "  </tbody>\n",
       "</table>\n",
       "<p>316 rows × 5 columns</p>\n",
       "</div>"
      ],
      "text/plain": [
       "    token  year  frequency  pages  books\n",
       "0    data  1584         16     14      1\n",
       "1    data  1614          3      2      1\n",
       "2    data  1627          1      1      1\n",
       "3    data  1631         22     18      1\n",
       "4    data  1637          1      1      1\n",
       "..    ...   ...        ...    ...    ...\n",
       "311  data  2004     201841  93539   3483\n",
       "312  data  2005     197467  88901   3392\n",
       "313  data  2006     203669  92960   3449\n",
       "314  data  2007     168338  78986   3246\n",
       "315  data  2008     105331  47811   2358\n",
       "\n",
       "[316 rows x 5 columns]"
      ]
     },
     "execution_count": 12,
     "metadata": {},
     "output_type": "execute_result"
    }
   ],
   "source": [
    "# Read the csv into a dataframe; note that we pass in the 'StreamingBody' above\n",
    "\n",
    "s3_filtered_data = pd.read_csv(s3_object['Body'] , header = 1)\n",
    "\n",
    "# Check\n",
    "\n",
    "s3_filtered_data"
   ]
  },
  {
   "cell_type": "markdown",
   "id": "5f00745f",
   "metadata": {},
   "source": [
    "- **This is one way to read the data with boto3. we can even read the data directly into Pandas with the code below:**"
   ]
  },
  {
   "cell_type": "markdown",
   "id": "248a5359",
   "metadata": {},
   "source": [
    "## Reading data directly into pandas from s3 bucket:"
   ]
  },
  {
   "cell_type": "code",
   "execution_count": 13,
   "id": "52a471f5",
   "metadata": {
    "scrolled": false
   },
   "outputs": [
    {
     "data": {
      "text/html": [
       "<div>\n",
       "<style scoped>\n",
       "    .dataframe tbody tr th:only-of-type {\n",
       "        vertical-align: middle;\n",
       "    }\n",
       "\n",
       "    .dataframe tbody tr th {\n",
       "        vertical-align: top;\n",
       "    }\n",
       "\n",
       "    .dataframe thead th {\n",
       "        text-align: right;\n",
       "    }\n",
       "</style>\n",
       "<table border=\"1\" class=\"dataframe\">\n",
       "  <thead>\n",
       "    <tr style=\"text-align: right;\">\n",
       "      <th></th>\n",
       "      <th>token</th>\n",
       "      <th>year</th>\n",
       "      <th>frequency</th>\n",
       "      <th>pages</th>\n",
       "      <th>books</th>\n",
       "    </tr>\n",
       "  </thead>\n",
       "  <tbody>\n",
       "    <tr>\n",
       "      <th>0</th>\n",
       "      <td>data</td>\n",
       "      <td>1584</td>\n",
       "      <td>16</td>\n",
       "      <td>14</td>\n",
       "      <td>1</td>\n",
       "    </tr>\n",
       "    <tr>\n",
       "      <th>1</th>\n",
       "      <td>data</td>\n",
       "      <td>1614</td>\n",
       "      <td>3</td>\n",
       "      <td>2</td>\n",
       "      <td>1</td>\n",
       "    </tr>\n",
       "    <tr>\n",
       "      <th>2</th>\n",
       "      <td>data</td>\n",
       "      <td>1627</td>\n",
       "      <td>1</td>\n",
       "      <td>1</td>\n",
       "      <td>1</td>\n",
       "    </tr>\n",
       "    <tr>\n",
       "      <th>3</th>\n",
       "      <td>data</td>\n",
       "      <td>1631</td>\n",
       "      <td>22</td>\n",
       "      <td>18</td>\n",
       "      <td>1</td>\n",
       "    </tr>\n",
       "    <tr>\n",
       "      <th>4</th>\n",
       "      <td>data</td>\n",
       "      <td>1637</td>\n",
       "      <td>1</td>\n",
       "      <td>1</td>\n",
       "      <td>1</td>\n",
       "    </tr>\n",
       "    <tr>\n",
       "      <th>...</th>\n",
       "      <td>...</td>\n",
       "      <td>...</td>\n",
       "      <td>...</td>\n",
       "      <td>...</td>\n",
       "      <td>...</td>\n",
       "    </tr>\n",
       "    <tr>\n",
       "      <th>311</th>\n",
       "      <td>data</td>\n",
       "      <td>2004</td>\n",
       "      <td>201841</td>\n",
       "      <td>93539</td>\n",
       "      <td>3483</td>\n",
       "    </tr>\n",
       "    <tr>\n",
       "      <th>312</th>\n",
       "      <td>data</td>\n",
       "      <td>2005</td>\n",
       "      <td>197467</td>\n",
       "      <td>88901</td>\n",
       "      <td>3392</td>\n",
       "    </tr>\n",
       "    <tr>\n",
       "      <th>313</th>\n",
       "      <td>data</td>\n",
       "      <td>2006</td>\n",
       "      <td>203669</td>\n",
       "      <td>92960</td>\n",
       "      <td>3449</td>\n",
       "    </tr>\n",
       "    <tr>\n",
       "      <th>314</th>\n",
       "      <td>data</td>\n",
       "      <td>2007</td>\n",
       "      <td>168338</td>\n",
       "      <td>78986</td>\n",
       "      <td>3246</td>\n",
       "    </tr>\n",
       "    <tr>\n",
       "      <th>315</th>\n",
       "      <td>data</td>\n",
       "      <td>2008</td>\n",
       "      <td>105331</td>\n",
       "      <td>47811</td>\n",
       "      <td>2358</td>\n",
       "    </tr>\n",
       "  </tbody>\n",
       "</table>\n",
       "<p>316 rows × 5 columns</p>\n",
       "</div>"
      ],
      "text/plain": [
       "    token  year  frequency  pages  books\n",
       "0    data  1584         16     14      1\n",
       "1    data  1614          3      2      1\n",
       "2    data  1627          1      1      1\n",
       "3    data  1631         22     18      1\n",
       "4    data  1637          1      1      1\n",
       "..    ...   ...        ...    ...    ...\n",
       "311  data  2004     201841  93539   3483\n",
       "312  data  2005     197467  88901   3392\n",
       "313  data  2006     203669  92960   3449\n",
       "314  data  2007     168338  78986   3246\n",
       "315  data  2008     105331  47811   2358\n",
       "\n",
       "[316 rows x 5 columns]"
      ]
     },
     "execution_count": 13,
     "metadata": {},
     "output_type": "execute_result"
    }
   ],
   "source": [
    "# Read the csv from the specified S3 path into a dataframe\n",
    "\n",
    "filtered_data_directly_pandas = pd.read_csv('s3://mahyar-bstn-bucket/filtered_data.csv', header = 1 )\n",
    "\n",
    "# Check\n",
    "\n",
    "filtered_data_directly_pandas"
   ]
  },
  {
   "cell_type": "markdown",
   "id": "f63e5492",
   "metadata": {},
   "source": [
    "- Now let's check the shape, info and some basic math calculations of the numeric columns:"
   ]
  },
  {
   "cell_type": "code",
   "execution_count": 14,
   "id": "f8e23c79",
   "metadata": {},
   "outputs": [
    {
     "data": {
      "text/html": [
       "<div>\n",
       "<style scoped>\n",
       "    .dataframe tbody tr th:only-of-type {\n",
       "        vertical-align: middle;\n",
       "    }\n",
       "\n",
       "    .dataframe tbody tr th {\n",
       "        vertical-align: top;\n",
       "    }\n",
       "\n",
       "    .dataframe thead th {\n",
       "        text-align: right;\n",
       "    }\n",
       "</style>\n",
       "<table border=\"1\" class=\"dataframe\">\n",
       "  <thead>\n",
       "    <tr style=\"text-align: right;\">\n",
       "      <th></th>\n",
       "      <th>year</th>\n",
       "      <th>frequency</th>\n",
       "      <th>pages</th>\n",
       "      <th>books</th>\n",
       "    </tr>\n",
       "  </thead>\n",
       "  <tbody>\n",
       "    <tr>\n",
       "      <th>count</th>\n",
       "      <td>316.000000</td>\n",
       "      <td>316.000000</td>\n",
       "      <td>316.000000</td>\n",
       "      <td>316.000000</td>\n",
       "    </tr>\n",
       "    <tr>\n",
       "      <th>mean</th>\n",
       "      <td>1847.569620</td>\n",
       "      <td>38555.993671</td>\n",
       "      <td>21711.041139</td>\n",
       "      <td>1493.110759</td>\n",
       "    </tr>\n",
       "    <tr>\n",
       "      <th>std</th>\n",
       "      <td>96.874382</td>\n",
       "      <td>69212.366418</td>\n",
       "      <td>34901.797740</td>\n",
       "      <td>1560.040802</td>\n",
       "    </tr>\n",
       "    <tr>\n",
       "      <th>min</th>\n",
       "      <td>1584.000000</td>\n",
       "      <td>1.000000</td>\n",
       "      <td>1.000000</td>\n",
       "      <td>1.000000</td>\n",
       "    </tr>\n",
       "    <tr>\n",
       "      <th>25%</th>\n",
       "      <td>1771.750000</td>\n",
       "      <td>20.750000</td>\n",
       "      <td>19.000000</td>\n",
       "      <td>11.750000</td>\n",
       "    </tr>\n",
       "    <tr>\n",
       "      <th>50%</th>\n",
       "      <td>1850.500000</td>\n",
       "      <td>3004.000000</td>\n",
       "      <td>2729.500000</td>\n",
       "      <td>868.000000</td>\n",
       "    </tr>\n",
       "    <tr>\n",
       "      <th>75%</th>\n",
       "      <td>1929.250000</td>\n",
       "      <td>41776.750000</td>\n",
       "      <td>30195.750000</td>\n",
       "      <td>2964.250000</td>\n",
       "    </tr>\n",
       "    <tr>\n",
       "      <th>max</th>\n",
       "      <td>2008.000000</td>\n",
       "      <td>254561.000000</td>\n",
       "      <td>122472.000000</td>\n",
       "      <td>4372.000000</td>\n",
       "    </tr>\n",
       "  </tbody>\n",
       "</table>\n",
       "</div>"
      ],
      "text/plain": [
       "              year      frequency          pages        books\n",
       "count   316.000000     316.000000     316.000000   316.000000\n",
       "mean   1847.569620   38555.993671   21711.041139  1493.110759\n",
       "std      96.874382   69212.366418   34901.797740  1560.040802\n",
       "min    1584.000000       1.000000       1.000000     1.000000\n",
       "25%    1771.750000      20.750000      19.000000    11.750000\n",
       "50%    1850.500000    3004.000000    2729.500000   868.000000\n",
       "75%    1929.250000   41776.750000   30195.750000  2964.250000\n",
       "max    2008.000000  254561.000000  122472.000000  4372.000000"
      ]
     },
     "execution_count": 14,
     "metadata": {},
     "output_type": "execute_result"
    }
   ],
   "source": [
    "filtered_data_directly_pandas.describe()"
   ]
  },
  {
   "cell_type": "code",
   "execution_count": 15,
   "id": "eb75dcea",
   "metadata": {},
   "outputs": [
    {
     "data": {
      "text/plain": [
       "(316, 5)"
      ]
     },
     "execution_count": 15,
     "metadata": {},
     "output_type": "execute_result"
    }
   ],
   "source": [
    "filtered_data_directly_pandas.shape"
   ]
  },
  {
   "cell_type": "markdown",
   "id": "5b53d54b",
   "metadata": {},
   "source": [
    "- Our data has 316 rows and 5 columns."
   ]
  },
  {
   "cell_type": "code",
   "execution_count": 16,
   "id": "94794141",
   "metadata": {},
   "outputs": [
    {
     "name": "stdout",
     "output_type": "stream",
     "text": [
      "<class 'pandas.core.frame.DataFrame'>\n",
      "RangeIndex: 316 entries, 0 to 315\n",
      "Data columns (total 5 columns):\n",
      " #   Column     Non-Null Count  Dtype \n",
      "---  ------     --------------  ----- \n",
      " 0   token      316 non-null    object\n",
      " 1   year       316 non-null    int64 \n",
      " 2   frequency  316 non-null    int64 \n",
      " 3   pages      316 non-null    int64 \n",
      " 4   books      316 non-null    int64 \n",
      "dtypes: int64(4), object(1)\n",
      "memory usage: 12.5+ KB\n"
     ]
    }
   ],
   "source": [
    "filtered_data_directly_pandas.info()"
   ]
  },
  {
   "cell_type": "markdown",
   "id": "87486aa6",
   "metadata": {},
   "source": [
    "- We have 4 nymeric columns and one object column(token). We have no null values."
   ]
  },
  {
   "cell_type": "markdown",
   "id": "f44144f8",
   "metadata": {},
   "source": [
    "- **In this question we read the data into a pandas dataframe in 2 ways and then we did some basic describe on the dataset.**"
   ]
  },
  {
   "cell_type": "markdown",
   "id": "09e5dea6",
   "metadata": {},
   "source": [
    " "
   ]
  },
  {
   "cell_type": "markdown",
   "id": "36bb609e",
   "metadata": {},
   "source": [
    "## 7"
   ]
  },
  {
   "cell_type": "markdown",
   "id": "ce7d6099",
   "metadata": {},
   "source": [
    " "
   ]
  },
  {
   "cell_type": "markdown",
   "id": "e2123aca",
   "metadata": {},
   "source": [
    "- Now we will plot the number of occurrences of the token (the frequency column) of data over the years using matplotlib:"
   ]
  },
  {
   "cell_type": "code",
   "execution_count": 18,
   "id": "bed62734",
   "metadata": {},
   "outputs": [
    {
     "data": {
      "image/png": "[encoded data removed]",
      "text/plain": [
       "<Figure size 640x480 with 1 Axes>"
      ]
     },
     "metadata": {},
     "output_type": "display_data"
    }
   ],
   "source": [
    "import matplotlib.pyplot as plt\n",
    "\n",
    "# Group the data by year and calculate the sum of the frequency column\n",
    "\n",
    "grouped_data = filtered_data_directly_pandas.groupby(\"year\").sum()\n",
    "\n",
    "# Plot the sum of the frequency column for each year\n",
    "\n",
    "plt.plot(grouped_data.index, grouped_data[\"frequency\"])\n",
    "\n",
    "# Add labels to the x and y axes\n",
    "\n",
    "plt.title(\"Number of occurrences of the token (the frequency column) of data over the years\")\n",
    "plt.xlabel(\"Year\")\n",
    "plt.ylabel(\"Frequency\")\n",
    "\n",
    "# Show the plot\n",
    "\n",
    "plt.show()\n"
   ]
  },
  {
   "cell_type": "markdown",
   "id": "86dedba6",
   "metadata": {},
   "source": [
    " "
   ]
  },
  {
   "cell_type": "markdown",
   "id": "02bcd6d9",
   "metadata": {},
   "source": [
    "## 8"
   ]
  },
  {
   "cell_type": "markdown",
   "id": "d23b64a8",
   "metadata": {},
   "source": [
    " "
   ]
  },
  {
   "cell_type": "markdown",
   "id": "ae28d387",
   "metadata": {},
   "source": [
    "### 8.a : What are the advantages/ differences between Hadoop and Spark? List two advantages for each."
   ]
  },
  {
   "cell_type": "markdown",
   "id": "39feaaaa",
   "metadata": {},
   "source": [
    " "
   ]
  },
  {
   "cell_type": "markdown",
   "id": "7bbcca0e",
   "metadata": {},
   "source": [
    "Hadoop and Spark are both distributed file systems, but they have some differences in terms of their design and functionality:\n",
    "\n",
    "Advantages of Hadoop:\n",
    "\n",
    "1. Scalability: Hadoop can scale to handle very large data sets by adding more nodes to the cluster.\n",
    "\n",
    "\n",
    "2. Cost-effective: Hadoop is an open-source solution, so there are no licensing costs involved, and it can run on commodity hardware.\n",
    "\n",
    "Advantages of Spark:\n",
    "\n",
    "1. Speed: Spark is much faster than Hadoop MapReduce for big data processing because it uses in-memory computing and can cache intermediate data in memory for faster access.\n",
    "\n",
    "\n",
    "2. Ease of use: Spark has a high-level API that makes it easier for developers to write and maintain big data processing code, compared to Hadoop MapReduce, which has a low-level API.\n",
    "\n",
    "\n",
    "It is worth noting that Hadoop and Spark are complementary technologies, and Spark can be used on top of Hadoop as an alternative to MapReduce for big data processing."
   ]
  },
  {
   "cell_type": "markdown",
   "id": "86308624",
   "metadata": {},
   "source": [
    " "
   ]
  },
  {
   "cell_type": "markdown",
   "id": "6cd26d68",
   "metadata": {},
   "source": [
    "### 8.b : Explain how the HDFS stores the data."
   ]
  },
  {
   "cell_type": "markdown",
   "id": "940d4eeb",
   "metadata": {},
   "source": [
    " "
   ]
  },
  {
   "cell_type": "markdown",
   "id": "fbd02239",
   "metadata": {},
   "source": [
    "HDFS (Hadoop Distributed File System) is the primary storage system used by Hadoop. HDFS stores data as large files that are broken down into smaller blocks and distributed across multiple nodes in a Hadoop cluster. The blocks are replicated across multiple nodes in the cluster for increased reliability and to provide fault tolerance in case a node fails.\n",
    "\n",
    "When a file is written to HDFS, it is divided into blocks and each block is stored on multiple nodes. The blocks are stored on the nodes close to the data, reducing network latency and increasing data transfer speeds. The blocks are also replicated to other nodes in the cluster, providing backup copies of the data in case a node fails.\n",
    "\n",
    "HDFS uses a master/slave architecture, with a NameNode as the master and DataNodes as the slaves. The NameNode maintains the file system namespace, manages the mapping of blocks to DataNodes, and coordinates access to files stored in HDFS. The DataNodes are responsible for storing the actual data blocks and serving read and write requests from clients.\n",
    "\n",
    "In summary, HDFS is a highly scalable, fault-tolerant, and distributed file system that provides reliable data storage for Hadoop clusters."
   ]
  },
  {
   "cell_type": "markdown",
   "id": "ddb1b892",
   "metadata": {},
   "source": [
    " "
   ]
  },
  {
   "cell_type": "markdown",
   "id": "f978ae42",
   "metadata": {},
   "source": [
    " "
   ]
  },
  {
   "cell_type": "markdown",
   "id": "eeb1cba2",
   "metadata": {},
   "source": [
    " "
   ]
  },
  {
   "cell_type": "markdown",
   "id": "cd099e78",
   "metadata": {},
   "source": [
    " "
   ]
  },
  {
   "cell_type": "markdown",
   "id": "60723e13",
   "metadata": {},
   "source": [
    " "
   ]
  },
  {
   "cell_type": "markdown",
   "id": "673f7265",
   "metadata": {},
   "source": [
    " "
   ]
  }
 ],
 "metadata": {
  "kernelspec": {
   "display_name": "cloud_lab",
   "language": "python",
   "name": "cloud_lab"
  },
  "language_info": {
   "codemirror_mode": {
    "name": "ipython",
    "version": 3
   },
   "file_extension": ".py",
   "mimetype": "text/x-python",
   "name": "python",
   "nbconvert_exporter": "python",
   "pygments_lexer": "ipython3",
   "version": "3.8.16"
  }
 },
 "nbformat": 4,
 "nbformat_minor": 5
}
